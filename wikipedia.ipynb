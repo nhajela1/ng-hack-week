{
 "cells": [
  {
   "cell_type": "markdown",
   "id": "c9be72ae-7ea2-4881-95dc-856f53719792",
   "metadata": {},
   "source": [
    "# Wikipedia Library"
   ]
  },
  {
   "cell_type": "code",
   "execution_count": null,
   "id": "32ed3993-751b-41f8-8524-0d4463c0abf6",
   "metadata": {},
   "outputs": [],
   "source": [
    "# import the library\n",
    "import wikipedia as wp\n",
    "import wikipediaapi"
   ]
  },
  {
   "cell_type": "code",
   "execution_count": null,
   "id": "0d12075b-68f8-450c-aa30-bb4e9e9d8c8c",
   "metadata": {},
   "outputs": [],
   "source": [
    "# create a page object for the NG wikipedia page\n",
    "ng = wp.page('Northrop Grumman')"
   ]
  },
  {
   "cell_type": "code",
   "execution_count": null,
   "id": "6eff00a8-266c-43f9-ae9a-adefbf113354",
   "metadata": {},
   "outputs": [],
   "source": [
    "# get the url of the page\n",
    "url = ng.url\n",
    "url"
   ]
  },
  {
   "cell_type": "code",
   "execution_count": null,
   "id": "d49f8fad-6d78-41a5-8741-1837797af7cd",
   "metadata": {},
   "outputs": [],
   "source": [
    "# get a summary of the page\n",
    "summary = wp.summary(ng)\n",
    "summary"
   ]
  },
  {
   "cell_type": "code",
   "execution_count": null,
   "id": "fa7048a0-141a-42fd-a033-0e305745531c",
   "metadata": {},
   "outputs": [],
   "source": [
    "# abbreviated summary\n",
    "summary = wp.summary(ng, sentences=2)\n",
    "summary"
   ]
  },
  {
   "cell_type": "code",
   "execution_count": null,
   "id": "9a0b90ac-4c30-4fe0-9eb6-bebee1ef2bdf",
   "metadata": {},
   "outputs": [],
   "source": [
    "# the links function gets all the links on the page\n",
    "# these are other wikipedia articles\n",
    "# display the first 10\n",
    "ng.links[0:10]"
   ]
  },
  {
   "cell_type": "code",
   "execution_count": null,
   "id": "d33f3225-fa26-49c5-a186-f0c3b55459f2",
   "metadata": {},
   "outputs": [],
   "source": [
    "# get the image urls from the page\n",
    "ng.images"
   ]
  },
  {
   "cell_type": "code",
   "execution_count": null,
   "id": "cfb09bab-e8ce-485e-a2f2-4d3609d21f0e",
   "metadata": {},
   "outputs": [],
   "source": [
    "# get the references from the reference section\n",
    "ng.references"
   ]
  },
  {
   "cell_type": "code",
   "execution_count": null,
   "id": "c67bb12e-78d3-4fbf-812b-bb964d977dc8",
   "metadata": {},
   "outputs": [],
   "source": [
    "# helper function to display svg images\n",
    "from IPython.display import SVG, display\n",
    "def show_svg(url):\n",
    "    display(SVG(url))"
   ]
  },
  {
   "cell_type": "code",
   "execution_count": null,
   "id": "80691c67-9db1-4f5d-a787-f7fe8acbe5b5",
   "metadata": {},
   "outputs": [],
   "source": [
    "# displaying one image\n",
    "show_svg(ng.images[13])"
   ]
  },
  {
   "cell_type": "code",
   "execution_count": null,
   "id": "4eafdfea-cd9c-493d-96fc-2821a88e60e1",
   "metadata": {},
   "outputs": [],
   "source": [
    "# get all the svg images\n",
    "images = [x for x in ng.images if x.endswith('svg')]"
   ]
  },
  {
   "cell_type": "markdown",
   "id": "6f81ec5a-3dc1-4eff-b32d-c84889aa565c",
   "metadata": {},
   "source": [
    "# Wikipedia API Library"
   ]
  },
  {
   "cell_type": "code",
   "execution_count": null,
   "id": "83a87f5e-acf1-4dd8-b990-3cbe8aee38f4",
   "metadata": {},
   "outputs": [],
   "source": [
    "import wikipediaapi\n",
    "wiki_wiki = wikipediaapi.Wikipedia('en')\n",
    "ng_new = wiki_wiki.page('Northrop Grumman')"
   ]
  },
  {
   "cell_type": "code",
   "execution_count": null,
   "id": "8b51234b-a925-4dcd-b55a-b33252512bd9",
   "metadata": {},
   "outputs": [],
   "source": [
    "ng_new.summary"
   ]
  },
  {
   "cell_type": "code",
   "execution_count": null,
   "id": "a011a1b3-d333-4c07-b8c9-e8f1abf36258",
   "metadata": {},
   "outputs": [],
   "source": [
    "ng_new.title"
   ]
  },
  {
   "cell_type": "code",
   "execution_count": null,
   "id": "9cdc8eab-7fb4-48f1-85ed-5d011a4a59a4",
   "metadata": {},
   "outputs": [],
   "source": [
    "# code will not compile\n",
    "# cannot get references directly with this library\n",
    "#ng_new.references"
   ]
  },
  {
   "cell_type": "code",
   "execution_count": null,
   "id": "f037918f-028a-4df7-9284-85b0d3ddeb73",
   "metadata": {},
   "outputs": [],
   "source": [
    "# test code to attempt to get external links\n",
    "import wikipediaapi\n",
    "# Create a Wikipedia API object\n",
    "wiki = wikipediaapi.Wikipedia('en')\n",
    "# Get the page for the Python programming language\n",
    "page = wiki.page('Python (programming language)')\n",
    "# Get the external links in the article\n",
    "external_links = []\n",
    "for link in page.links:\n",
    "    if link.startswith('http'):\n",
    "        external_links.append(link)\n",
    "# Print the external links\n",
    "print(external_links)"
   ]
  },
  {
   "cell_type": "markdown",
   "id": "b98489fb",
   "metadata": {},
   "source": [
    "# Testing Wikipedia Search Implementation"
   ]
  },
  {
   "cell_type": "code",
   "execution_count": null,
   "id": "a50272d3",
   "metadata": {},
   "outputs": [],
   "source": [
    "# Prompt user to enter a search term\n",
    "list_of_possible_topics = wp.search(input(\"Enter a search term:\\n\"))\n",
    "print(\"\\n\")\n",
    "\n",
    "# Declare an integer to hold the number of results in disambiguation, and a string for URLs\n",
    "size = 0\n",
    "page_url = ''\n",
    "\n",
    "# Iterate through the list of disambiguation results, and increment size by 1 for each\n",
    "for topic in list_of_possible_topics:\n",
    "    size = size + 1\n",
    "    print(topic)\n",
    "    \n",
    "if size == 1:\n",
    "    # If there is only one topic found (no disamb.), then the URL is simply that topic's Wiki\n",
    "    page_url = wp.page(list_of_possible_topics[0]).url\n",
    "else:\n",
    "    # Otherwise, prompt user to select from the list of topics in disambiguation\n",
    "    # TODO: Add error handling\n",
    "    chosen_topic = input(\"\\nWhich of the above topics?\\n\")\n",
    "    \n",
    "    if (list_of_possible_topics.count(chosen_topic) > 0):\n",
    "        # Once the user selects a topic, pick the associated index in list of disambiguation results\n",
    "        selection = list_of_possible_topics.index(chosen_topic)\n",
    "        \n",
    "        # page_url is then set to the chosen topic's URL\n",
    "        page_url = wp.page(list_of_possible_topics[selection]).url\n",
    "\n",
    "if (page_url == ''):\n",
    "    print(\"\\nNo matching link found.\\n\")\n",
    "else:\n",
    "    print(\"\\nHere is the link!\\n\" + page_url)\n",
    "\n",
    "# Here is where the magic would happen, using tf-idf to identify which topics are the most closely \n",
    "# associated with the queried topic. So if a person searched for \"hello\" and selected the \n",
    "# corresponding topic on Wikipedia, they would be presented with the following data (along with \n",
    "# some additional functionality, as the team sees fit):\n",
    "\n",
    "# Topic       |          Wikipedia Link          |      Degree of relatedness\n",
    "# \"Hello\"     |    [Wiki link for \"Hello\"]       |              100%\n",
    "# \"Hi\"        |    [Wiki link for \"Hi\"]          |              89%\n",
    "# \"Greetings\" |    [Wiki link for \"Greetings\"]   |              82%\n",
    "\n"
   ]
  },
  {
   "cell_type": "code",
   "execution_count": null,
   "id": "9062bafb",
   "metadata": {},
   "outputs": [],
   "source": []
  },
  {
   "cell_type": "code",
   "execution_count": null,
   "id": "ed277acc",
   "metadata": {},
   "outputs": [],
   "source": []
  }
 ],
 "metadata": {
  "kernelspec": {
   "display_name": "Python 3 (ipykernel)",
   "language": "python",
   "name": "python3"
  },
  "language_info": {
   "codemirror_mode": {
    "name": "ipython",
    "version": 3
   },
   "file_extension": ".py",
   "mimetype": "text/x-python",
   "name": "python",
   "nbconvert_exporter": "python",
   "pygments_lexer": "ipython3",
   "version": "3.11.2"
  }
 },
 "nbformat": 4,
 "nbformat_minor": 5
}
