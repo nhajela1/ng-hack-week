{
 "cells": [
  {
   "cell_type": "markdown",
   "id": "c9be72ae-7ea2-4881-95dc-856f53719792",
   "metadata": {},
   "source": [
    "# Wikipedia Library"
   ]
  },
  {
   "cell_type": "code",
   "execution_count": 110,
   "id": "32ed3993-751b-41f8-8524-0d4463c0abf6",
   "metadata": {},
   "outputs": [],
   "source": [
    "# import the library\n",
    "import wikipedia as wp"
   ]
  },
  {
   "cell_type": "code",
   "execution_count": 29,
   "id": "0d12075b-68f8-450c-aa30-bb4e9e9d8c8c",
   "metadata": {},
   "outputs": [],
   "source": [
    "# create a page object for the NG wikipedia page\n",
    "ng = wp.page('Northrop Grumman')"
   ]
  },
  {
   "cell_type": "code",
   "execution_count": 112,
   "id": "6eff00a8-266c-43f9-ae9a-adefbf113354",
   "metadata": {},
   "outputs": [
    {
     "data": {
      "text/plain": [
       "'https://en.wikipedia.org/wiki/Northrop_Grumman'"
      ]
     },
     "execution_count": 112,
     "metadata": {},
     "output_type": "execute_result"
    }
   ],
   "source": [
    "# get the url of the page\n",
    "url = ng.url\n",
    "url"
   ]
  },
  {
   "cell_type": "code",
   "execution_count": 97,
   "id": "d49f8fad-6d78-41a5-8741-1837797af7cd",
   "metadata": {},
   "outputs": [
    {
     "data": {
      "text/plain": [
       "\"Northrop Grumman Corporation is an American multinational aerospace and defense technology company. With 90,000 employees and an annual revenue in excess of $30 billion, it is one of the world's largest weapons manufacturers and military technology providers. The firm ranks No.\\u202f101 on the 2022 Fortune 500 list of America's largest corporations.Northrop Grumman and its industry partners have won the Collier Trophy eight times, most recently for developing the X-47B, the first unmanned, autonomous air system to operate from an aircraft carrier.Northrop Grumman currently leads the development of the B-21 Raider, a long-range, stealth strategic bomber that can drop conventional and nuclear weapons; it will replace Northrop's own B-2 Spirit, the world's only known stealth bomber. Among its other current projects are development and production of the James Webb Space Telescope, an orbiting observatory launched in 2021, and production of the solid rocket boosters for NASA's Space Launch System program. It was the sole bidder on the Air Force's Ground Based Strategic Deterrent program, which aims to develop and build a new intercontinental ballistic missile.\""
      ]
     },
     "execution_count": 97,
     "metadata": {},
     "output_type": "execute_result"
    }
   ],
   "source": [
    "# get a summary of the page\n",
    "summary = wp.summary(ng)\n",
    "summary"
   ]
  },
  {
   "cell_type": "code",
   "execution_count": 98,
   "id": "fa7048a0-141a-42fd-a033-0e305745531c",
   "metadata": {},
   "outputs": [
    {
     "data": {
      "text/plain": [
       "\"Northrop Grumman Corporation is an American multinational aerospace and defense technology company. With 90,000 employees and an annual revenue in excess of $30 billion, it is one of the world's largest weapons manufacturers and military technology providers.\""
      ]
     },
     "execution_count": 98,
     "metadata": {},
     "output_type": "execute_result"
    }
   ],
   "source": [
    "# abbreviated summary\n",
    "summary = wp.summary(ng, sentences=2)\n",
    "summary"
   ]
  },
  {
   "cell_type": "code",
   "execution_count": 101,
   "id": "9a0b90ac-4c30-4fe0-9eb6-bebee1ef2bdf",
   "metadata": {},
   "outputs": [
    {
     "data": {
      "text/plain": [
       "['ABC News',\n",
       " 'ADM-160 MALD',\n",
       " 'AN/AAQ-37',\n",
       " 'AN/APG-68',\n",
       " 'AN/APG-77',\n",
       " 'AN/APG-78 Longbow',\n",
       " 'AN/APG-80',\n",
       " 'AN/APG-81',\n",
       " 'AN/APG-83',\n",
       " 'AN/SPQ-9']"
      ]
     },
     "execution_count": 101,
     "metadata": {},
     "output_type": "execute_result"
    }
   ],
   "source": [
    "# the links function gets all the links on the page\n",
    "# these are other wikipedia articles\n",
    "# display the first 10\n",
    "ng.links[0:10]"
   ]
  },
  {
   "cell_type": "code",
   "execution_count": 41,
   "id": "d33f3225-fa26-49c5-a186-f0c3b55459f2",
   "metadata": {},
   "outputs": [
    {
     "data": {
      "text/plain": [
       "['https://upload.wikimedia.org/wikipedia/commons/5/53/Ambox_current_red_Americas.svg',\n",
       " 'https://upload.wikimedia.org/wikipedia/commons/e/e3/Antares_A-ONE_launch.1..jpg',\n",
       " 'https://upload.wikimedia.org/wikipedia/commons/6/68/Aviacionavion.png',\n",
       " 'https://upload.wikimedia.org/wikipedia/commons/3/34/B-2_Spirit_-_060530-F-5040D-320.jpg',\n",
       " 'https://upload.wikimedia.org/wikipedia/commons/2/27/Cygnus_5_departing_during_Expedition_46_%28187136%29.jpg',\n",
       " 'https://upload.wikimedia.org/wikipedia/commons/e/ed/Decrease2.svg',\n",
       " 'https://upload.wikimedia.org/wikipedia/commons/4/47/Flag_of_Virginia.svg',\n",
       " 'https://upload.wikimedia.org/wikipedia/commons/9/9d/Global_Hawk_1.jpg',\n",
       " 'https://upload.wikimedia.org/wikipedia/commons/b/b0/Increase2.svg',\n",
       " 'https://upload.wikimedia.org/wikipedia/commons/2/2a/Industry5.svg',\n",
       " 'https://upload.wikimedia.org/wikipedia/commons/4/47/James_Webb_Space_Telescope_2009_top.jpg',\n",
       " 'https://upload.wikimedia.org/wikipedia/commons/5/57/LA_Skyline_Mountains2.jpg',\n",
       " 'https://upload.wikimedia.org/wikipedia/commons/5/59/Northrop_Grumman.svg',\n",
       " 'https://upload.wikimedia.org/wikipedia/commons/3/36/Northrop_Grumman_logo_blue-on-clear_2020.svg',\n",
       " 'https://upload.wikimedia.org/wikipedia/commons/7/76/P-61bs_on_assembly_line_-_Northrop_-_1944.jpg',\n",
       " 'https://upload.wikimedia.org/wikipedia/en/4/4a/Commons-logo.svg',\n",
       " 'https://upload.wikimedia.org/wikipedia/en/8/8a/OOjs_UI_icon_edit-ltr-progressive.svg',\n",
       " 'https://upload.wikimedia.org/wikipedia/en/9/99/Question_book-new.svg']"
      ]
     },
     "execution_count": 41,
     "metadata": {},
     "output_type": "execute_result"
    }
   ],
   "source": [
    "# get the image urls from the page\n",
    "ng.images"
   ]
  },
  {
   "cell_type": "code",
   "execution_count": 96,
   "id": "cfb09bab-e8ce-485e-a2f2-4d3609d21f0e",
   "metadata": {},
   "outputs": [
    {
     "data": {
      "text/plain": [
       "['http://www.dpc.sa.gov.au/__data/assets/pdf_file/0018/33282/CMAX-Communications-Pty-Ltd-Change-of-Details-9-April-2018.pdf',\n",
       " 'http://antennaassociates.com/index.php',\n",
       " 'http://aviationweek.com/world-satellite-business-week/northrop-buy-orbital-more-9b',\n",
       " 'http://articles.chicagotribune.com/2001-10-30/news/0110300253_1_two-former-northrop-employees-defense-fraud-case-criminal-probe',\n",
       " 'http://www.cnn.com/2015/10/27/politics/long-range-strike-bomber-northrop-grumman/',\n",
       " 'http://www.computerworld.com/s/article/9192481/The_Top_Green_IT_Organizations_Green_from_the_ground_up',\n",
       " 'http://www.defenseindustrydaily.com/2005/08/britain-issues-12b-e3d-awacs-support-contract/index.php',\n",
       " 'http://www.defensenews.com/articles/army-falls-behind-bringing-new-missile-defense-command-system-online',\n",
       " 'http://www.defensenews.com/sgmlparse2.php?F=archive2/20030707/atpc5480771.sgml',\n",
       " 'http://www.dodbuzz.com/2015/09/29/air-force-delays-new-bomber-contract-by-couple-of-months/',\n",
       " 'http://www.flightglobal.com/articles/2010/03/08/339205/northrop-grumman-declines-to-bid-on-latest-kc-x-rfp.html',\n",
       " 'http://www.flightglobal.com/news/articles/darpa-selects-two-firms-to-compete-for-sea-based-uav-410613/',\n",
       " 'http://www.flightinternational.com/Articles/2006/02/14/204704/Flight+Interview+Ronald+Sugar,+CEO+Northrop+Grumman.html',\n",
       " 'http://www.forbesinc.com/newsroom/releases/editorial/Forbes010603.doc',\n",
       " 'http://www.fundinguniverse.com/company-histories/logicon-inc-history/',\n",
       " 'http://www.informationweek.com/virginia-taps-northrop-grumman-for-$2-billion-it-overhaul/d/d-id/1037969?',\n",
       " 'http://www.irconnect.com/noc/press/pages/news_releases.html?d=145805',\n",
       " 'http://www.irconnect.com/noc/press/pages/news_releases.html?d=196171',\n",
       " 'http://www.irconnect.com/noc/press/pages/news_releases.html?d=215938',\n",
       " 'http://www.irconnect.com/noc/press/pages/news_releases.mhtml?d=95867',\n",
       " 'http://www.irconnect.com/noc/press/pages/news_releases.mhtml?d=96373',\n",
       " 'http://www.irconnect.com/noc/press/pages/news_releases.mhtml?d=83072',\n",
       " 'http://www.keloland.com/communities/rapidcity/localdetail12122.cfm?Id=124529',\n",
       " 'http://www.labusinessjournal.com',\n",
       " 'http://www.labusinessjournal.com/article.asp?aID=143693',\n",
       " 'http://www.military.com/daily-news/2013/07/04/northrop-fends-off-lockheed-to-win-big-af-contract.html?comp=700001075741&rank=5',\n",
       " 'http://www.newsday.com/long-island/nassau/state-to-treat-pollution-plume-in-bethpage-1.4988720',\n",
       " 'http://www.newsday.com/news/health/bethpage-water-district-to-sue-northrop-grumman-over-contamination-1.6453564',\n",
       " 'http://northropgrumman.com',\n",
       " 'http://investor.northropgrumman.com/static-files/432cda29-68dd-45f8-a34f-3cdf79da2ddc',\n",
       " 'http://www.northropgrumman.com/',\n",
       " 'http://www.northropgrumman.com/AboutUs/AnnualReports/Documents/pdfs/2017_noc_ar.pdf',\n",
       " 'http://www.northropgrumman.com/AboutUs/BusinessSectors/TechnologyServices/Pages/default.aspx',\n",
       " 'http://www.northropgrumman.com/AboutUs/CompanyLeadership/Pages/default.aspx',\n",
       " 'http://www.northropgrumman.com/AboutUs/OurHeritage/Pages/default.aspx',\n",
       " 'http://www.northropgrumman.com/MediaResources/MediaKits/JWST/Home.aspx',\n",
       " 'http://www.northropgrumman.com/locations/index.html',\n",
       " 'http://www.northropgrumman.com/nwfc/index.html',\n",
       " 'http://www.phillipsandcohen.com/2003/Northrop-Grumman-pays-111-million-to-settle-qui-tam-case-against-recent-acquisition-TRW.shtml',\n",
       " 'http://www.phillipsandcohen.com/2009/Scientist-blew-whistle-on-faulty-military-satellite-parts-Northrop-Grumman-pays-325-million-to-settle-case.shtml',\n",
       " 'http://www.prnewswire.com/news-releases/northrop-grumman-elects-ronald-d-sugar-chairman-of-the-board-71103752.html',\n",
       " 'http://www.realcleardefense.com/articles/2017/05/17/failing_missile_defense_programs_111398.html',\n",
       " 'http://www.space.com/news/070720_scaled_bought.html',\n",
       " 'http://spacenews.com/acquisition-of-orbital-atk-approved-company-renamed-northrop-grumman-innovation-systems/',\n",
       " 'http://spacenews.com/the-james-webb-space-telescope-finally-takes-shape/',\n",
       " 'http://www.universetoday.com/110237/james-webb-space-telescopes-giant-sunshield-test-unit-unfurled-first-time/',\n",
       " 'http://www.upi.com/Business_News/Security-Industry/2008/06/18/NG-DHS-Technologies-to-support-SICPSTMSS/UPI-57811213812923/',\n",
       " 'http://www.upi.com/Business_News/Security-Industry/2015/03/26/Northrop-Grumman-delivers-first-shipset-for-Australian-Growler/1311427388483/?spt=mps&or=1',\n",
       " 'http://voices.washingtonpost.com/economy-watch/2010/01/northrop_grumman_moving_hq_to.html?wpisrc=newsletter',\n",
       " 'http://voices.washingtonpost.com/virginiapolitics/2010/09/giv_bob_mcdonnell_r_there.html',\n",
       " 'http://www.peri.umass.edu/Toxic-100-Index.430.0.html',\n",
       " 'http://www2.census.gov/geo/maps/dc10map/tract/st51_va/c51059_fairfax/DC10CT_C51059_000.pdf',\n",
       " 'http://yosemite.epa.gov/opa/admpress.nsf/5dc6087040a927d3852572a000650c01/d3c7e13cb306d7bc852570d8005e1595!OpenDocument',\n",
       " 'http://yosemite.epa.gov/opa/admpress.nsf/b1ab9f485b098972852562e7004dc686/6683b144dead3e3f8525715d006bbefe!OpenDocument',\n",
       " 'http://webarchive.loc.gov/all/20190301170912/https://spacenews.com/acquisition-of-orbital-atk-approved-company-renamed-northrop-grumman-innovation-systems/',\n",
       " 'http://pmddtc.state.gov/compliance/consent_agreements/pdf/NorthropGrummanCorp_ConsentAgreement.pdf',\n",
       " 'http://patft.uspto.gov/netacgi/nph-Parser?Sect1=PTO2&Sect2=HITOFF&u=/netahtml/search-adv.htm&r=0&p=1&f=S&l=50&Query=an/%22Northrop+Grumman%22&d=ptxt',\n",
       " 'http://www.nationalinfo.in/2016/07/06/northrop-grumman/#',\n",
       " 'http://www.af.mil/news/story.asp?storyID=123039273',\n",
       " 'http://www.darpa.mil/NewsEvents/Releases/2013/03/01.aspx',\n",
       " 'http://phx.corporate-ir.net/phoenix.zhtml?c=118965&p=irol-newsArticle_pf&ID=528493&highlight=',\n",
       " 'http://corpwatch.org/section.php?id=11',\n",
       " 'http://www.corpwatch.org/article.php?id=11265',\n",
       " 'http://www.corpwatch.org/article.php?list=type&type=11',\n",
       " 'http://www.globalsecurity.org/military/industry/mergers.htm',\n",
       " 'http://rightweb.irc-online.org/profile/2831',\n",
       " 'http://www.opensecrets.org/pacs/lookup2.asp?strID=C00088591&cycle=2006',\n",
       " 'http://www.opensecrets.org/pacs/sector.asp?txt=D01&cycle=2006',\n",
       " 'http://www.publicintegrity.org/superfund/Company.aspx?act=16163',\n",
       " 'http://readingtokids.org/Friends/Businesses/GroupViewB.php?gpage=NorthropGrummanECHO',\n",
       " 'http://www.ron-brown-award.org/winners.cfm',\n",
       " 'http://id.worldcat.org/fast/740478/',\n",
       " 'https://aviationweek.com/awin/goodrich-buys-trw-aerospace',\n",
       " 'https://www.baltimoresun.com/news/bs-xpm-1999-03-12-9903120176-story.html',\n",
       " 'https://www.bloomberg.com/apps/news?pid=newsarchive&sid=awNvIV4IfBdk',\n",
       " 'https://www.cnbc.com/2022/08/09/northrop-grumman-moves-rocket-work-from-russia-ukraine-with-firefly.html',\n",
       " 'https://www.dailypress.com/business/dp-xpm-20110315-2011-03-15-dp-nws-huntington-ingalls-timeline-20110315-story.html',\n",
       " 'https://www.defenseindustrydaily.com/eads-northrop-grumman-offer-usaf-an-airbus-tanker-option-01164/',\n",
       " 'https://people.defensenews.com/top-100/',\n",
       " 'https://www.defensenews.com/industry/2018/01/29/northrop-to-create-new-innovation-biz-sector/',\n",
       " 'https://www.defensenews.com/industry/2019/09/20/northrop-launches-new-divisions-focused-on-space-cyber-unmanned-tech/',\n",
       " 'https://www.defensenews.com/industry/2020/12/08/northrop-sells-it-business-to-veritas-capital-for-34b/',\n",
       " 'https://farmingdale-observer.com/2022/04/29/bethpage-water-district-to-receive-plume-settlement/',\n",
       " 'https://fcw.com/articles/1999/05/30/northrop-to-merge-dpc-into-logicon.aspx',\n",
       " 'https://www.forbes.com/best-large-employers/#560cf244fb3e',\n",
       " 'https://www.forbes.com/free_forbes/2003/0106/102.html',\n",
       " 'https://www.forbes.com/sites/antoinegara/2017/06/20/ma-flashback-northrops-takeover-of-grumman-led-defense-stocks-out-of-the-cold-war/#4aaa6f9f2510',\n",
       " 'https://fortune.com/company/northrop-grumman/fortune500/',\n",
       " 'https://abcnews.go.com/TheLaw/FedCrimes/story?id=4684907&page=1',\n",
       " 'https://books.google.com/books?id=ffEtB0zUKZoC&pg=PA92',\n",
       " 'https://www.google.com/finance?q=NOC:NYSE',\n",
       " 'https://grconnect.com/tox100wt/ry2019/index.php?search=yes&company2=4788',\n",
       " 'https://www.latimes.com/archives/la-xpm-2004-mar-11-na-roche11-story.html',\n",
       " 'https://www.nasaspaceflight.com/2021/06/mars-ascent-vehicle-update/',\n",
       " 'https://www.nbcnews.com/id/23413217/ns/business-us_business/t/air-force-dumps-boeing-northrop-airbus/#',\n",
       " 'https://www.nexis.com/docview/getDocForCuiReq?lni=47YW-C040-010F-944M&csi=8422&oc=00240&perma=true',\n",
       " 'https://www.nexis.com/docview/getDocForCuiReq?lni=4J01-9RR0-TW84-N3DM&csi=8422&oc=00240&perma=true',\n",
       " 'https://news.northropgrumman.com/news/releases/northrop-grumman-announces-organization-and-leadership-changes-6775579',\n",
       " 'https://www.northropgrumman.com/AboutUs/Welcome/default.aspx',\n",
       " 'https://www.northropgrumman.com/Capabilities/F35Lightning/Pages/default.aspx',\n",
       " 'https://www.northropgrumman.com/Capabilities/SpaceLaunchVehicles/Pages/default.aspx',\n",
       " 'https://www.northropgrumman.com/MediaResources/MediaKits/Space/Portfolio.aspx',\n",
       " 'https://www.northropgrumman.com/MediaResources/Pages/CollierTrophy.aspx',\n",
       " 'https://www.northropgrumman.com/leadership/#board',\n",
       " 'https://www.northropgrumman.com/who-we-are/business-sectors/aeronautics-systems/',\n",
       " 'https://www.nyse.com/quote/XNYS:HII',\n",
       " 'https://www.nyse.com/quote/XNYS:NOC',\n",
       " 'https://www.nytimes.com/1994/04/05/business/northrop-bests-martin-marietta-to-buy-grumman.html',\n",
       " 'https://www.nytimes.com/1996/01/04/business/2-westinghouse-industrial-units-sold-to-northrop-for-3-billion.html',\n",
       " 'https://www.nytimes.com/1997/05/06/business/northrop-to-purchase-logicon-in-a-750-million-stock-swap.html',\n",
       " 'https://www.nytimes.com/2002/07/02/business/northrop-to-buy-trw-for-7.8-billion.html',\n",
       " 'https://www.nytimes.com/2009/04/03/business/03whistle.html',\n",
       " 'https://www.nytimes.com/2015/10/28/business/northrop-grumman-wins-21-4-billion-pentagon-contract.html',\n",
       " 'https://pqasb.pqarchiver.com/washingtonpost/access/382495171.html?dids=382495171:382495171&FMT=ABS',\n",
       " 'https://www.reuters.com/article/brief-orbital-stockholders-approve-acqui/brief-orbital-stockholders-approve-acquisition-by-northrop-grumman-corporation-idUSASB0BVSR',\n",
       " 'https://www.reuters.com/article/northrop-idUSN3110702820110331',\n",
       " 'https://www.reuters.com/finance/stocks/company-profile/NOC.N',\n",
       " 'https://www.satellitetoday.com/government-military/2010/11/10/nasa-taps-13-companies-for-heavy-lift-launch-vehicle-study/',\n",
       " 'https://spaceflightnow.com/2018/06/07/northrop-grumman-completes-orbital-atk-acquisition/',\n",
       " 'https://spacenews.com/nasa-issues-contract-to-northrop-grumman-for-gateway-module/',\n",
       " 'https://spacenews.com/northrop-grumman-to-terminate-omega-rocket-program/',\n",
       " 'https://spacenews.com/northrop-grumman-wins-298-million-contract-to-develop-jam-resistant-military-satellite/',\n",
       " 'https://spacenews.com/solstar-halo-wi-fi/',\n",
       " 'https://spacenews.com/u-s-space-command-to-begin-testing-the-last-satellite-of-the-aehf-milstar-constellation/',\n",
       " 'https://www.virginiabusiness.com/article/peraton-closes-on-3-4b-cash-purchase-of-northrop-grumman-biz/',\n",
       " 'https://washingtonexec.com/2019/09/northrop-grumman-announces-realigned-operating-sectors/#.X78u1157mTc',\n",
       " 'https://www.washingtonpost.com/archive/business/2001/04/04/northrop-completes-purchase-of-litton/f8e5729e-23ce-4787-bc53-90f4bd301a68/',\n",
       " 'https://www.washingtonpost.com/archive/business/2001/11/09/northrop-seals-deal-to-buy-newport-news/b3f7827a-7169-4f57-823d-e8834c9b1385/',\n",
       " 'https://www.washingtonpost.com/wp-dyn/content/article/2006/09/01/AR2006090100291_pf.html',\n",
       " 'https://www.washingtonpost.com/wp-dyn/content/article/2010/01/10/AR2010011002250.html',\n",
       " 'https://washingtontechnology.com/articles/2002/12/13/northrop-grumman-creates-two-new-sectors-out-of-trw-names-leaders.aspx',\n",
       " 'https://washingtontechnology.com/articles/2007/07/16/saic-northrop-divvy-up-amsec.aspx',\n",
       " 'https://www.wsj.com/articles/northrop-grumman-realigns-sectors-restores-coo-post-1444860029',\n",
       " 'https://finance.yahoo.com/quote/NOC',\n",
       " 'https://news.yahoo.com/nm-firm-builds-wi-fi-035900403.html',\n",
       " 'https://airandspace.si.edu/collection-objects/grumman-apollo-lunar-module-propulsion-reports-and-photographs-arons-1963-1969',\n",
       " 'https://www.fbo.gov/?s=opportunity&mode=form&id=f6134017040820c1104063ceb5b4c765&tab=core&_cview=0',\n",
       " 'https://www.fbo.gov/index?s=opportunity&mode=form&tab=core&id=ba79f55f115f3651ae8bc2f4c3e4098d&_cview=0',\n",
       " 'https://id.loc.gov/authorities/names/n98071934',\n",
       " 'https://www.sec.gov/Archives/edgar/containers/fix011/72945/0000072945-00-500025.txt',\n",
       " 'https://www.sec.gov/cgi-bin/browse-edgar?action=getcompany&CIK=1133421',\n",
       " 'https://www.sec.gov/ix?doc=/Archives/edgar/data/0001133421/000113342120000006/noc-12312019x10k.htm',\n",
       " 'https://www.sec.gov/ix?doc=/Archives/edgar/data/1133421/000113342122000004/noc-20211231.htm',\n",
       " 'https://www.sec.gov/ix?doc=/Archives/edgar/data/1133421/000113342123000006/noc-20221231.htm',\n",
       " 'https://web.archive.org/web/20030224121518/http://www.forbes.com/free_forbes/2003/0106/102.html',\n",
       " 'https://web.archive.org/web/20040416200441/http://www.forbesinc.com/newsroom/releases/editorial/Forbes010603.doc',\n",
       " 'https://web.archive.org/web/20060223105543/http://rightweb.irc-online.org/profile/2831',\n",
       " 'https://web.archive.org/web/20060404123757/http://www.defenseindustrydaily.com/2005/08/britain-issues-12b-e3d-awacs-support-contract/index.php',\n",
       " 'https://web.archive.org/web/20070215184337/http://www.af.mil/news/story.asp?storyID=123039273',\n",
       " 'https://web.archive.org/web/20071016160602/http://opensecrets.org/pacs/lookup2.asp?strID=C00088591&cycle=2006',\n",
       " 'https://web.archive.org/web/20071022062125/http://www.publicintegrity.org/superfund/Company.aspx?act=16163',\n",
       " 'https://web.archive.org/web/20071118141919/http://www.opensecrets.org/pacs/sector.asp?txt=D01&cycle=2006',\n",
       " 'https://web.archive.org/web/20071124013554/http://www.ron-brown-award.org/winners.cfm',\n",
       " 'https://web.archive.org/web/20091010082813/http://www.pmddtc.state.gov/compliance/consent_agreements/pdf/NorthropGrummanCorp_ConsentAgreement.pdf',\n",
       " 'https://web.archive.org/web/20110103090740/http://www.northropgrumman.com/nwfc/index.html',\n",
       " 'https://web.archive.org/web/20110928084602/http://www.northropgrumman.com/pdf/2008-corporate-social-responsi.pdf',\n",
       " 'https://web.archive.org/web/20120725121732/http://www.peri.umass.edu/Toxic-100-Index.430.0.html',\n",
       " 'https://web.archive.org/web/20130223052513/http://www.northropgrumman.com/AboutUs/OurHeritage/Pages/default.aspx',\n",
       " 'https://web.archive.org/web/20130515143650/http://www.darpa.mil/NewsEvents/Releases/2013/03/01.aspx',\n",
       " 'https://web.archive.org/web/20130517051013/http://www.keloland.com/communities/rapidcity/localdetail12122.cfm?Id=124529',\n",
       " 'https://web.archive.org/web/20140929134923/http://www.militaryaerospace.com/articles/2014/09/northrop-darpa-tern.html',\n",
       " 'https://web.archive.org/web/20141208022818/http://www.corpwatch.org/article.php?id=11265',\n",
       " 'https://web.archive.org/web/20151002225745/http://www.dodbuzz.com/2015/09/29/air-force-delays-new-bomber-contract-by-couple-of-months/',\n",
       " 'https://web.archive.org/web/20151017094530/http://phx.corporate-ir.net/phoenix.zhtml?c=118965&p=irol-newsArticle_pf&ID=528493&highlight=',\n",
       " 'https://web.archive.org/web/20151017094530/http://www.bloomberg.com/apps/news?pid=newsarchive&sid=awNvIV4IfBdk',\n",
       " 'https://web.archive.org/web/20160108035404/https://www.northropgrumman.com/AboutUs/BusinessSectors/TechnologyServices/Pages/default.aspx',\n",
       " 'https://web.archive.org/web/20160901083713/http://antennaassociates.com/index.php',\n",
       " 'https://web.archive.org/web/20160913114727/http://www.nationalinfo.in/2016/07/06/northrop-grumman/',\n",
       " 'https://web.archive.org/web/20170202005700/http://www.informationweek.com/virginia-taps-northrop-grumman-for-$2-billion-it-overhaul/d/d-id/1037969',\n",
       " 'https://web.archive.org/web/20171121063003/http://www.corpwatch.org/article.php?list=type&type=11',\n",
       " 'https://web.archive.org/web/20180119120148/http://corpwatch.org/section.php?id=11',\n",
       " 'https://web.archive.org/web/20180511150023/http://www.dpc.sa.gov.au/__data/assets/pdf_file/0018/33282/CMAX-Communications-Pty-Ltd-Change-of-Details-9-April-2018.pdf',\n",
       " 'https://web.archive.org/web/20180724201557/https://www.northropgrumman.com/MediaResources/MediaKits/Space/Portfolio.aspx',\n",
       " 'https://web.archive.org/web/20200127000326/https://airandspace.si.edu/collection-objects/grumman-apollo-lunar-module-propulsion-reports-and-photographs-arons-1963-1969',\n",
       " 'https://web.archive.org/web/20200209124549/https://fcw.com/articles/1999/05/30/northrop-to-merge-dpc-into-logicon.aspx',\n",
       " 'https://isni.org/isni/0000000406344349',\n",
       " 'https://nationalinterest.org/blog/the-buzz/lockheed-martin-general-dynamics-northrop-grumman-boeing-18356',\n",
       " 'https://nationalinterest.org/blog/the-buzz/the-story-the-f-23-fighter-the-plane-would-have-replaced-the-25441',\n",
       " 'https://www.sipri.org/publications/2018/sipri-fact-sheets/sipri-top-100-arms-producing-and-military-services-companies-2017',\n",
       " 'https://viaf.org/viaf/138555013',\n",
       " 'https://www.wikidata.org/wiki/Q329953#identifiers',\n",
       " 'https://www.worldcat.org/identities/lccn-n98071934/',\n",
       " 'https://www.worldcat.org/issn/0099-9660',\n",
       " 'https://www.worldcat.org/issn/0362-4331']"
      ]
     },
     "execution_count": 96,
     "metadata": {},
     "output_type": "execute_result"
    }
   ],
   "source": [
    "# get the references from the reference section\n",
    "ng.references"
   ]
  },
  {
   "cell_type": "code",
   "execution_count": 53,
   "id": "c67bb12e-78d3-4fbf-812b-bb964d977dc8",
   "metadata": {},
   "outputs": [],
   "source": [
    "# helper function to display svg images\n",
    "from IPython.display import SVG, display\n",
    "def show_svg(url):\n",
    "    display(SVG(url))"
   ]
  },
  {
   "cell_type": "code",
   "execution_count": 109,
   "id": "80691c67-9db1-4f5d-a787-f7fe8acbe5b5",
   "metadata": {},
   "outputs": [
    {
     "data": {
      "image/svg+xml": [
       "<svg xmlns=\"http://www.w3.org/2000/svg\" id=\"svg4403\" version=\"1.1\" height=\"408.4\" width=\"1200\">\n",
       "  <title id=\"title846\">Northrop Grumman logo</title>\n",
       "  <g style=\"fill:#00269a;fill-opacity:1;fill-rule:nonzero;stroke:none\" transform=\"matrix(10.544921,0,0,-10.544921,-12182.9,6882.7342)\" id=\"g896\">\n",
       "    <g id=\"g897\">\n",
       "      <g transform=\"translate(1164.3223,643.6157)\" id=\"g3458\">\n",
       "        <path d=\"M 0,0 H 2.372 L 6.623,-5.388 V 0 H 8.99 V -9.09 H 6.55 L 2.372,-3.667 V -9.09 H 0 Z\" id=\"path3456\"/>\n",
       "      </g>\n",
       "      <g transform=\"translate(1181.3281,637.1714)\" id=\"g3462\">\n",
       "        <path d=\"m 0,0 c 0.486,0.499 0.736,1.151 0.736,1.947 0,0.735 -0.25,1.352 -0.748,1.85 -0.498,0.499 -1.127,0.748 -1.875,0.748 -0.759,0 -1.377,-0.261 -1.875,-0.759 -0.487,-0.499 -0.736,-1.139 -0.736,-1.911 0,-0.771 0.238,-1.4 0.725,-1.899 0.474,-0.486 1.103,-0.735 1.874,-0.735 0.772,0 1.4,0.249 1.899,0.759 m -5.483,-1.59 c -0.949,0.926 -1.413,2.089 -1.413,3.501 0,1.423 0.488,2.598 1.473,3.524 0.961,0.891 2.136,1.341 3.548,1.341 1.412,0 2.611,-0.463 3.572,-1.388 0.961,-0.914 1.436,-2.054 1.436,-3.395 0,-1.447 -0.487,-2.646 -1.46,-3.595 -0.961,-0.914 -2.148,-1.377 -3.56,-1.377 -1.461,0 -2.658,0.463 -3.596,1.389\" id=\"path3460\"/>\n",
       "      </g>\n",
       "      <g transform=\"translate(1188.8369,639.5215)\" id=\"g3466\">\n",
       "        <path d=\"m 0,0 c 0.819,0 1.222,0.38 1.222,1.139 0,0.759 -0.391,1.14 -1.198,1.14 H -0.715 V 0 Z m -3.085,4.094 h 3.619 c 0.903,0 1.626,-0.25 2.207,-0.736 0.593,-0.522 0.903,-1.222 0.903,-2.112 0,-1.258 -0.523,-2.089 -1.567,-2.481 L 4.51,-4.996 H 1.673 l -1.91,3.204 h -0.478 v -3.204 h -2.37 z\" id=\"path3464\"/>\n",
       "      </g>\n",
       "      <g transform=\"translate(1195.5684,641.2451)\" id=\"g3470\">\n",
       "        <path d=\"M 0,0 H -1.924 V 2.371 H 4.294 V 0 H 2.369 V -6.72 H 0 Z\" id=\"path3468\"/>\n",
       "      </g>\n",
       "      <g transform=\"translate(1201.3584,643.6157)\" id=\"g3474\">\n",
       "        <path d=\"M 0,0 H 2.37 V -3.212 H 5.698 V 0 H 8.069 V -9.091 H 5.698 v 3.508 H 2.37 V -9.091 H 0 Z\" id=\"path3472\"/>\n",
       "      </g>\n",
       "      <g transform=\"translate(1214.2822,639.5215)\" id=\"g3478\">\n",
       "        <path d=\"m 0,0 c 0.818,0 1.222,0.38 1.222,1.139 0,0.759 -0.391,1.14 -1.199,1.14 H -0.715 V 0 Z m -3.085,4.094 h 3.619 c 0.902,0 1.626,-0.25 2.207,-0.736 0.593,-0.522 0.902,-1.222 0.902,-2.112 0,-1.258 -0.522,-2.089 -1.566,-2.481 L 4.51,-4.996 H 1.673 l -1.91,3.204 h -0.478 v -3.204 h -2.37 z\" id=\"path3476\"/>\n",
       "      </g>\n",
       "      <g transform=\"translate(1226.0283,637.1714)\" id=\"g3482\">\n",
       "        <path d=\"m 0,0 c 0.486,0.499 0.735,1.151 0.735,1.947 0,0.735 -0.249,1.352 -0.748,1.85 -0.498,0.499 -1.127,0.748 -1.875,0.748 -0.758,0 -1.377,-0.261 -1.875,-0.759 -0.485,-0.499 -0.735,-1.139 -0.735,-1.911 0,-0.771 0.237,-1.4 0.724,-1.899 0.474,-0.486 1.104,-0.735 1.875,-0.735 0.772,0 1.4,0.249 1.899,0.759 m -5.482,-1.59 c -0.951,0.926 -1.414,2.089 -1.414,3.501 0,1.423 0.488,2.598 1.473,3.524 0.961,0.891 2.136,1.341 3.548,1.341 1.413,0 2.61,-0.463 3.571,-1.388 0.961,-0.914 1.437,-2.054 1.437,-3.395 0,-1.447 -0.487,-2.646 -1.46,-3.595 -0.961,-0.914 -2.149,-1.377 -3.561,-1.377 -1.46,0 -2.657,0.463 -3.594,1.389\" id=\"path3480\"/>\n",
       "      </g>\n",
       "      <g transform=\"translate(1233.7988,639.4385)\" id=\"g3486\">\n",
       "        <path d=\"M 0,0 C 0.937,0 1.4,0.404 1.4,1.222 1.4,2.005 0.949,2.385 0.023,2.385 H -0.786 V 0 Z m -3.157,4.177 h 4.059 c 0.878,0 1.59,-0.284 2.1,-0.878 0.512,-0.546 0.76,-1.281 0.76,-2.172 0,-0.854 -0.248,-1.542 -0.76,-2.064 C 2.504,-1.471 1.816,-1.745 0.973,-1.745 h -1.759 v -3.168 h -2.371 z\" id=\"path3484\"/>\n",
       "      </g>\n",
       "    </g>\n",
       "    <g id=\"g898\">\n",
       "      <g transform=\"translate(1175.7617,624.1201)\" id=\"g3442\">\n",
       "        <path d=\"m 0,0 c -0.878,0.926 -1.329,2.089 -1.329,3.477 0,1.365 0.451,2.516 1.329,3.454 0.913,0.96 2.041,1.435 3.395,1.435 1.827,0 3.191,-0.759 4.105,-2.278 L 5.602,5.043 C 5.555,5.162 5.458,5.293 5.316,5.447 4.807,6.016 4.153,6.301 3.37,6.301 2.587,6.301 2.005,5.993 1.614,5.388 1.282,4.878 1.115,4.213 1.115,3.382 1.115,2.54 1.317,1.887 1.709,1.4 2.137,0.866 2.766,0.605 3.584,0.605 c 0.475,0 0.914,0.154 1.306,0.451 0.426,0.321 0.665,0.7 0.712,1.163 H 3.514 V 4.118 H 8.07 V 3.619 C 8.07,2.077 7.69,0.866 6.918,-0.012 6.111,-0.926 4.948,-1.389 3.417,-1.389 2.029,-1.389 0.891,-0.926 0,0\" id=\"path3440\"/>\n",
       "      </g>\n",
       "      <g transform=\"translate(1188.3262,628.0596)\" id=\"g3502\">\n",
       "        <path d=\"m 0,0 c 0.818,0 1.222,0.38 1.222,1.139 0,0.76 -0.391,1.14 -1.199,1.14 H -0.715 V 0 Z m -3.085,4.094 h 3.619 c 0.902,0 1.626,-0.25 2.207,-0.736 0.594,-0.522 0.902,-1.222 0.902,-2.112 0,-1.258 -0.522,-2.089 -1.566,-2.481 L 4.51,-4.996 H 1.673 l -1.91,3.204 h -0.478 v -3.204 h -2.37 z\" id=\"path3500\"/>\n",
       "      </g>\n",
       "      <g transform=\"translate(1194.8555,623.5264)\" id=\"g3446\">\n",
       "        <path d=\"M 0,0 C -0.808,0.605 -1.223,1.436 -1.223,2.48 V 8.628 H 1.15 V 2.979 c 0,-1.092 0.546,-1.638 1.639,-1.638 0.485,0 0.904,0.131 1.19,0.392 0.295,0.272 0.45,0.652 0.45,1.127 V 8.628 H 6.8 V 2.741 C 6.8,1.59 6.407,0.7 5.612,0.059 4.889,-0.51 3.928,-0.795 2.74,-0.795 1.648,-0.795 0.735,-0.534 0,0\" id=\"path3444\"/>\n",
       "      </g>\n",
       "      <g transform=\"translate(1208.7061,627.4556)\" id=\"g3494\">\n",
       "        <path d=\"M 0,0 3.002,4.698 H 3.006 5.373 V -4.393 H 3.006 V 0.942 H 3.002 L 0.639,-2.766 h -1.257 l -2.375,3.708 h -0.004 v -5.335 h -2.376 v 9.091 h 2.376 z\" id=\"path3492\"/>\n",
       "      </g>\n",
       "      <g transform=\"translate(1221.4023,627.4556)\" id=\"g3498\">\n",
       "        <path d=\"M 0,0 3.001,4.698 H 3.005 5.373 V -4.393 H 3.005 V 0.942 H 3.001 L 0.639,-2.766 h -1.257 l -2.375,3.708 h -0.009 l -0.001,-5.335 h -2.37 v 9.091 h 2.375 z\" id=\"path3496\"/>\n",
       "      </g>\n",
       "      <g transform=\"translate(1233.6416,626.5762)\" id=\"g3450\">\n",
       "        <path id=\"path3448\" d=\"M 0,0 -0.961,2.777 -1.934,0 Z m -2.286,5.578 h 2.714 l 3.37,-9.091 H 1.234 l -0.617,1.685 h -3.143 l -0.606,-1.685 h -2.529 z\"/>\n",
       "      </g>\n",
       "      <g transform=\"translate(1238.7461,632.1538)\" id=\"g3454\">\n",
       "        <path d=\"M 0,0 H 2.374 L 6.555,-5.388 V 0 H 8.924 V -9.091 H 6.55 L 2.372,-3.667 V -9.091 H 0 Z\" id=\"path3452\"/>\n",
       "      </g>\n",
       "    </g>\n",
       "    <g transform=\"translate(1238.7461,643.6157)\" id=\"g899\">\n",
       "      <path d=\"m 0,0 v -2.373 h 19.036 v -18.179 h 2.372 V 0 Z\" id=\"path3488\"/>\n",
       "    </g>\n",
       "  </g>\n",
       "</svg>"
      ],
      "text/plain": [
       "<IPython.core.display.SVG object>"
      ]
     },
     "metadata": {},
     "output_type": "display_data"
    }
   ],
   "source": [
    "# displaying one image\n",
    "show_svg(ng.images[13])"
   ]
  },
  {
   "cell_type": "code",
   "execution_count": 66,
   "id": "4eafdfea-cd9c-493d-96fc-2821a88e60e1",
   "metadata": {},
   "outputs": [],
   "source": [
    "# get all the svg images\n",
    "images = [x for x in ng.images if x.endswith('svg')]"
   ]
  },
  {
   "cell_type": "markdown",
   "id": "6f81ec5a-3dc1-4eff-b32d-c84889aa565c",
   "metadata": {},
   "source": [
    "# Wikipedia API Library"
   ]
  },
  {
   "cell_type": "code",
   "execution_count": 87,
   "id": "83a87f5e-acf1-4dd8-b990-3cbe8aee38f4",
   "metadata": {},
   "outputs": [],
   "source": [
    "import wikipediaapi\n",
    "wiki_wiki = wikipediaapi.Wikipedia('en')\n",
    "ng_new = wiki_wiki.page('Northrop Grumman')"
   ]
  },
  {
   "cell_type": "code",
   "execution_count": 89,
   "id": "8b51234b-a925-4dcd-b55a-b33252512bd9",
   "metadata": {},
   "outputs": [
    {
     "data": {
      "text/plain": [
       "\"Northrop Grumman Corporation is an American multinational aerospace and defense technology company. With 90,000 employees and an annual revenue in excess of $30 billion, it is one of the world's largest weapons manufacturers and military technology providers. The firm ranks No.\\u202f101 on the 2022 Fortune 500 list of America's largest corporations.Northrop Grumman and its industry partners have won the Collier Trophy eight times, most recently for developing the X-47B, the first unmanned, autonomous air system to operate from an aircraft carrier.Northrop Grumman currently leads the development of the B-21 Raider, a long-range, stealth strategic bomber that can drop conventional and nuclear weapons; it will replace Northrop's own B-2 Spirit, the world's only known stealth bomber. Among its other current projects are development and production of the James Webb Space Telescope, an orbiting observatory launched in 2021, and production of the solid rocket boosters for NASA's Space Launch System program. It was the sole bidder on the Air Force's Ground Based Strategic Deterrent program, which aims to develop and build a new intercontinental ballistic missile.\""
      ]
     },
     "execution_count": 89,
     "metadata": {},
     "output_type": "execute_result"
    }
   ],
   "source": [
    "ng_new.summary"
   ]
  },
  {
   "cell_type": "code",
   "execution_count": 92,
   "id": "a011a1b3-d333-4c07-b8c9-e8f1abf36258",
   "metadata": {},
   "outputs": [
    {
     "data": {
      "text/plain": [
       "'Northrop Grumman'"
      ]
     },
     "execution_count": 92,
     "metadata": {},
     "output_type": "execute_result"
    }
   ],
   "source": [
    "ng_new.title"
   ]
  },
  {
   "cell_type": "code",
   "execution_count": 113,
   "id": "9cdc8eab-7fb4-48f1-85ed-5d011a4a59a4",
   "metadata": {},
   "outputs": [],
   "source": [
    "# code will not compile\n",
    "# cannot get references directly with this library\n",
    "#ng_new.references"
   ]
  },
  {
   "cell_type": "code",
   "execution_count": 94,
   "id": "f037918f-028a-4df7-9284-85b0d3ddeb73",
   "metadata": {},
   "outputs": [
    {
     "name": "stdout",
     "output_type": "stream",
     "text": [
      "[]\n"
     ]
    }
   ],
   "source": [
    "# test code to attempt to get external links\n",
    "import wikipediaapi\n",
    "# Create a Wikipedia API object\n",
    "wiki = wikipediaapi.Wikipedia('en')\n",
    "# Get the page for the Python programming language\n",
    "page = wiki.page('Python (programming language)')\n",
    "# Get the external links in the article\n",
    "external_links = []\n",
    "for link in page.links:\n",
    "    if link.startswith('http'):\n",
    "        external_links.append(link)\n",
    "# Print the external links\n",
    "print(external_links)"
   ]
  },
  {
   "cell_type": "code",
   "execution_count": null,
   "id": "0105b1be-9cf4-4b99-a576-41541ff99d73",
   "metadata": {},
   "outputs": [],
   "source": []
  }
 ],
 "metadata": {
  "kernelspec": {
   "display_name": "Python 3 (ipykernel)",
   "language": "python",
   "name": "python3"
  },
  "language_info": {
   "codemirror_mode": {
    "name": "ipython",
    "version": 3
   },
   "file_extension": ".py",
   "mimetype": "text/x-python",
   "name": "python",
   "nbconvert_exporter": "python",
   "pygments_lexer": "ipython3",
   "version": "3.9.7"
  }
 },
 "nbformat": 4,
 "nbformat_minor": 5
}
